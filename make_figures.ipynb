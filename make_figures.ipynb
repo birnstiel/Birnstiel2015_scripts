{
 "cells": [
  {
   "cell_type": "markdown",
   "metadata": {},
   "source": [
    "# Create Figures for Birnstiel et al. 2015\n",
    "This script loads the data and (re-)creates the figures for the paper\n",
    "\n",
    "> T. Birnstiel, S. M. Andrews, P. Pinilla, and M. Kama  \n",
    "> *Dust Evolution Can Produce Scattered Light Gaps in Protoplanetary Disks*  \n",
    "> Astrophysical Journal Letters, 2015"
   ]
  },
  {
   "cell_type": "markdown",
   "metadata": {},
   "source": [
    "# Imports"
   ]
  },
  {
   "cell_type": "code",
   "execution_count": null,
   "metadata": {
    "collapsed": false,
    "scrolled": true
   },
   "outputs": [],
   "source": [
    "import glob, os, aux_functions, fig1, h5py\n",
    "\n",
    "import numpy             as np\n",
    "import matplotlib        as mpl\n",
    "import matplotlib.pyplot as plt\n",
    "\n",
    "from matplotlib        import ticker, gridspec\n",
    "from matplotlib.colors import LogNorm\n",
    "from aux_functions     import AU, Grav, k_b, mu, m_p\n",
    "    \n",
    "import distribution_reconstruction\n",
    "\n",
    "%matplotlib\n",
    "\n",
    "colors   = ['#de2d26','#756bb1']\n",
    "contcols = ['#e6550d','#08519c','#31a354']"
   ]
  },
  {
   "cell_type": "markdown",
   "metadata": {},
   "source": [
    "# Load Input Data"
   ]
  },
  {
   "cell_type": "code",
   "execution_count": null,
   "metadata": {
    "collapsed": true
   },
   "outputs": [],
   "source": [
    "with h5py.File('data.hdf5') as fid:\n",
    "    sim_file  = fid['sim_file'][()]  # Name of the simulation file\n",
    "    radmc_dir = fid['radmc_dir'][()] # Name of the RADMC-3D setup\n",
    "    time      = fid['time'][()]      # Time of the snapshot                 [s]\n",
    "    sig_da    = fid['sig_da'][()]    # Dust surface densities \\Sigma_d(r,a) [g cm^-2]\n",
    "    sig_g     = fid['sig_g'][()]     # Gas  surface densities \\Sigma_g(r)   [g cm^-2]\n",
    "    M_star    = fid['M_star'][()]    # Mass of central star                 [g]\n",
    "    v_gas     = fid['v_gas'][()]     # Gas radial velocities                [cm s^-1]\n",
    "    v_dust    = fid['v_dust'][()]    # Dust radial velocities v_d(r,a)      [cm s^-1]\n",
    "    rho_s     = fid['rho_s'][()]     # Material density of the grains       [g cm^-3]\n",
    "    r         = fid['r'][()]         # Radial grid                          [cm]\n",
    "    a         = fid['a'][()]         # Grain size grid                      [cm]\n",
    "    T         = fid['T'][()]         # Temperature profile in simulation    [K]\n",
    "    v_f       = fid['v_f'][()]       # Fragmentation threshold velocity     [cm s^-1]\n",
    "    alpha     = fid['alpha'][()]     # Turbulence parameter \\alpha(r)       [-]\n",
    "    gamma     = fid['gamma'][()]     # Radial pressure exponent dlnP/dlnr   [-]\n",
    "    lambdas   = fid['lambdas'][()]   # Wavlengths of the images/profiles    [cm]\n",
    "    a_0       = fid['a_0'][()]       # Initial maximum particle size        [cm]\n",
    "#\n",
    "# calculate derived quantities\n",
    "#\n",
    "sig_d  = sig_da.sum(0)               # Total dust surface density    [g cm^-2]\n",
    "eps    = sig_d/sig_g                 # Dust-to-gas mass ratio        [-]\n",
    "om     = np.sqrt(Grav*M_star/r**3)   # Keplerian frequency           [s^-1]\n",
    "v_k    = om*r                        # Keplerian Velocity            [cm s^-1]\n",
    "cs     = np.sqrt(k_b*T/mu/m_p)       # Isothermal sound speed        [cm s^-1]"
   ]
  },
  {
   "cell_type": "markdown",
   "metadata": {},
   "source": [
    "# Figure 1\n",
    "Figure 1 is independent of the others, we will just run the script to create the figure in the background.\n",
    "\n",
    "We will set our plotting preferences afterwards to avoid `fig1.py` overwriting them."
   ]
  },
  {
   "cell_type": "code",
   "execution_count": null,
   "metadata": {
    "collapsed": false
   },
   "outputs": [],
   "source": [
    "fig1.main();\n",
    "aux_functions.better_plots(sans=False,fs=16,lw=1.5)"
   ]
  },
  {
   "cell_type": "markdown",
   "metadata": {},
   "source": [
    "# Figure 2\n",
    "### Get Opacities\n",
    "Get opacities from RADMC-3D run. Assuming that the alphabetically sorting corresponds to wavelengths sorting."
   ]
  },
  {
   "cell_type": "code",
   "execution_count": null,
   "metadata": {
    "collapsed": false
   },
   "outputs": [],
   "source": [
    "LAM  = None\n",
    "CABS = []\n",
    "CSCA = []\n",
    "for _f in  glob.glob(radmc_dir+os.sep+'dustkap*.inp'):\n",
    "    with open(_f) as fid:\n",
    "        line    = fid.readline().strip()\n",
    "        while line[0]=='#': line=fid.readline().strip()\n",
    "        iformat = int(np.loadtxt([line],dtype='int',delimiter=' '))\n",
    "        nf      = np.fromfile(fid,dtype='int',count=1,sep=' ')[0]\n",
    "        _data   = np.loadtxt(fid)\n",
    "        _lam    = _data[:,0]\n",
    "        CABS   +=[_data[:,1]]\n",
    "        CSCA   +=[_data[:,2]]\n",
    "        \n",
    "        if LAM is None:\n",
    "            LAM = _lam*1e-4\n",
    "        else:\n",
    "            if any(LAM!=_lam*1e-4):\n",
    "                print(_f+': wavelengths do not match!')\n",
    "#\n",
    "# fill inn the large grain opacities as zeros (they were omitted because of low density)\n",
    "#\n",
    "for i in range(len(a)-len(CABS)):\n",
    "    CABS += [np.zeros(len(LAM))]\n",
    "    CSCA += [np.zeros(len(LAM))]\n",
    "CABS = np.array(CABS)\n",
    "CSCA = np.array(CSCA)\n",
    "#\n",
    "# interpolate at the desired wavelengths\n",
    "#\n",
    "kappa_abs = np.zeros([len(a),len(lambdas)])\n",
    "kappa_sca = np.zeros([len(a),len(lambdas)])\n",
    "for il in range(len(lambdas)):\n",
    "    for ia in range(len(a)):\n",
    "        kappa_abs[ia,il] = np.interp(lambdas[il],LAM,CABS[ia,:])\n",
    "        kappa_sca[ia,il] = np.interp(lambdas[il],LAM,CSCA[ia,:])"
   ]
  },
  {
   "cell_type": "markdown",
   "metadata": {},
   "source": [
    "### Call the routine to reconstruct the size-distribution"
   ]
  },
  {
   "cell_type": "code",
   "execution_count": null,
   "metadata": {
    "collapsed": false
   },
   "outputs": [],
   "source": [
    "sig_dr,a_max,r_f,sig_1,sig_2,sig_3 = distribution_reconstruction.reconstruct_size_distribution(\\\n",
    "    r,a,time,sig_g,\\\n",
    "    sig_d,alpha,rho_s,T,M_star,v_f,a_0=a_0,fix_pd=2.5)\n",
    "print('r_f = {} AU'.format(r_f/AU))"
   ]
  },
  {
   "cell_type": "markdown",
   "metadata": {},
   "source": [
    "### Plotting"
   ]
  },
  {
   "cell_type": "code",
   "execution_count": null,
   "metadata": {
    "collapsed": false
   },
   "outputs": [],
   "source": [
    "vmin,vmax=-9,2\n",
    "#\n",
    "# define the figure layout\n",
    "#\n",
    "f=plt.figure(figsize=(5.5,6.6))\n",
    "\n",
    "gs = gridspec.GridSpec(2,2,width_ratios=[10,0.6])\n",
    "gs.update(wspace=0.0,hspace=0.075,top=0.98,bottom=0.09,right=0.85)\n",
    "ax1=plt.subplot(gs[0,0])\n",
    "ax2=plt.subplot(gs[1,0])\n",
    "#\n",
    "# factor for converting to dust density distribution\n",
    "#\n",
    "gsf = 2*(a[1]/a[0]-1)/(a[1]/a[0]+1)\n",
    "#\n",
    "# first plot - simulated distribution\n",
    "#\n",
    "c   = ax1.contourf(r/AU,np.log10(a),np.maximum(np.minimum(vmax,sig_da/gsf),vmin),10.**np.arange(vmin,vmax+1),cmap='Greys',norm=LogNorm())\n",
    "cax = plt.subplot(gs[0,1:])\n",
    "cb  = plt.colorbar(c,cax=cax)\n",
    "cb.set_label('$a\\cdot\\Sigma_\\mathrm{d}(r,a)$ [g cm$^{-2}$]')\n",
    "#\n",
    "# first panel - overlay reconstruction\n",
    "#\n",
    "for i in range(3):\n",
    "    #\n",
    "    # mask the regions\n",
    "    #\n",
    "    if i == 0:\n",
    "        mask = (sig_1<sig_2) | (sig_1<=sig_3) | (sig_1<10.**vmin)\n",
    "    if i == 1:\n",
    "        mask = (sig_2<sig_1) | (sig_2<=sig_3) | (sig_2<10.**vmin)\n",
    "    if i == 2:\n",
    "        mask = (sig_3<sig_1) | (sig_3<=sig_2) | (sig_3<10.**vmin)\n",
    "    sig  = np.ma.masked_array(sig_dr, mask)\n",
    "    #\n",
    "    # plot the mesh\n",
    "    #\n",
    "    c=ax1.contour(r/AU,np.log10(a),sig/gsf,vmin=10.**vmin,vmax=10.**vmax,lw=1.5,colors=contcols[i],alpha=1.0,norm=LogNorm())\n",
    "#\n",
    "# second panel: optical depth comparison\n",
    "#\n",
    "x_text  = [1.1,0.8]\n",
    "ha_text = ['left','right']\n",
    "va_text = ['bottom','top']\n",
    "for il in range(len(lambdas)):\n",
    "    tau_sim = np.sum((kappa_abs[:,il][:,np.newaxis]+kappa_sca[:,il][:,np.newaxis])*sig_da,0)\n",
    "    tau_rec = np.sum((kappa_abs[:,il][:,np.newaxis]+kappa_sca[:,il][:,np.newaxis])*sig_dr,0)\n",
    "\n",
    "    ax2.semilogx(r/AU,np.log10(tau_sim),'-', c=colors[il])\n",
    "    ax2.semilogx(r/AU,np.log10(tau_rec),'--',c=colors[il])\n",
    "    \n",
    "    if lambdas[il]<0.1:\n",
    "        txt='$\\lambda = $ {:0.4g} $\\mu$m'.format(lambdas[il]*1e4)\n",
    "    else:\n",
    "        txt='$\\lambda = $ {:0.4g} mm'.format(lambdas[il]*10)\n",
    "        \n",
    "    ax2.text(x_text[il]*r_f/AU,np.log10(tau_sim[abs(r-r_f).argmin()]),txt,ha=ha_text[il],va=va_text[il],color=colors[il],fontsize='small')\n",
    "        \n",
    "ax2.set_ylabel(u'log optical depth');\n",
    "ax2.set_ylim(-2,4);\n",
    "#\n",
    "# add fake legend\n",
    "#\n",
    "ax2.plot([0],[0],'k-', label='simulation')\n",
    "ax2.plot([0],[0],'k--',label='reconstructed $\\,$')\n",
    "ax2.legend(fontsize='small').get_frame().set_alpha(0);\n",
    "#\n",
    "# formatting\n",
    "#\n",
    "for ax in [ax1]:\n",
    "    ax.loglog(r/AU,np.log10(a_max),c='w',ls='--',lw=2)\n",
    "    ax.set_yscale('linear')\n",
    "    ax.set_ylim(np.log10(a[[0,-1]]))\n",
    "    ax.set_ylabel('log grain size [cm]')\n",
    "\n",
    "for ax in [ax1,ax2]:\n",
    "    ax.plot(r_f/AU*np.ones(2),ax.get_ylim(),c='k',ls=':',lw=2)\n",
    "    ax.set_xlim(0.3,750)\n",
    "    ax.set_xscale('log')\n",
    "    ax.xaxis.set_major_formatter(ticker.FormatStrFormatter('%g'))\n",
    "    \n",
    "ax1.set_xticklabels('')\n",
    "\n",
    "ax1.text(0.04, 0.91,'a)',transform=ax1.transAxes)\n",
    "ax2.text(0.04, 0.91,'b)',transform=ax2.transAxes)\n",
    "    \n",
    "ax2.set_xlabel('radius [AU]')\n",
    "\n",
    "f.savefig('fig2.pdf',facecolor='None')"
   ]
  },
  {
   "cell_type": "markdown",
   "metadata": {},
   "source": [
    "# Figure 3"
   ]
  },
  {
   "cell_type": "markdown",
   "metadata": {},
   "source": [
    "Set image parameters"
   ]
  },
  {
   "cell_type": "code",
   "execution_count": null,
   "metadata": {
    "collapsed": true
   },
   "outputs": [],
   "source": [
    "img_name    = 'paperimage'\n",
    "#\n",
    "# other parameters\n",
    "#\n",
    "rmax_AU     = 200.              # plotting/image range in AU\n",
    "rmax_AU_z   = 200.              # zoomed in plotting range in AU, no zoom if equal to rmax_AU\n",
    "npix        = 2048              # nr of pixels on each side of the image\n",
    "AU_tickpos  = np.array([0.2,0.5,0.75,1.0])*10.**round(np.log10(rmax_AU))\n",
    "dpc_img     = 54.               # assumed distance of image\n",
    "rms         = 5e-5              # assumed noise level [Jy/arcsec]\n",
    "dynrng      = 3                 # how many orders of magnitude above noise\n",
    "rmax_as     = rmax_AU/dpc_img   # plotting range in arcsec\n",
    "rmin_as     = 0.01              # minimum radius for plotting and scaling in arsec\n",
    "images_done = False"
   ]
  },
  {
   "cell_type": "markdown",
   "metadata": {},
   "source": [
    "Calculate images (takes a while) -- will only be done once, or when `images_done=False` is reset."
   ]
  },
  {
   "cell_type": "code",
   "execution_count": null,
   "metadata": {
    "collapsed": false
   },
   "outputs": [],
   "source": [
    "imgs = []\n",
    "if images_done:\n",
    "    print('Already calculated the images before, skipping it.')\n",
    "    \n",
    "for lam in lambdas:\n",
    "    for suffix,rmx in zip(['','_z'],[rmax_AU,rmax_AU_z]):\n",
    "        img = img_name+'_{:0.4g}micron'.format(lam*1e4)+suffix\n",
    "        if suffix=='_z' and rmax_AU==rmax_AU_z: continue\n",
    "        if not images_done:\n",
    "            aux_functions.makeimage(lam,dirname=radmc_dir,\\\n",
    "                incl=10.0,PA=0.0,npix=npix,sizeau=2*rmx,\\\n",
    "                img_name=img,dpc=dpc_img,secondorder='');\n",
    "        imgs +=[radmc_dir+os.sep+img+'.fits']\n",
    "images_done = True"
   ]
  },
  {
   "cell_type": "markdown",
   "metadata": {},
   "source": [
    "Read in the image data."
   ]
  },
  {
   "cell_type": "code",
   "execution_count": null,
   "metadata": {
    "collapsed": true
   },
   "outputs": [],
   "source": [
    "image_data = []\n",
    "for i in imgs:\n",
    "    image_data += [aux_functions.get_image_data(i)]"
   ]
  },
  {
   "cell_type": "markdown",
   "metadata": {},
   "source": [
    "### Plotting"
   ]
  },
  {
   "cell_type": "code",
   "execution_count": null,
   "metadata": {
    "collapsed": false
   },
   "outputs": [],
   "source": [
    "#\n",
    "# set up figure and axes\n",
    "#\n",
    "plt.figure(figsize=(5.5,6.6))\n",
    "\n",
    "gs  = mpl.gridspec.GridSpec(2,2,height_ratios=[0.8,1])\n",
    "\n",
    "ax1 = plt.subplot(gs[0,0])\n",
    "ax2 = plt.subplot(gs[0,1])\n",
    "ax3 = plt.subplot(gs[1,:])\n",
    "\n",
    "ax1.set_aspect(1)\n",
    "ax2.set_aspect(1)\n",
    "\n",
    "gs.update(wspace=0.0,hspace=0.2,top=0.95,bottom=0.1,left=0.2,right=0.95)\n",
    "\n",
    "plt.setp(ax2.get_yticklabels(), visible=False)\n",
    "#\n",
    "# Images\n",
    "#\n",
    "for i,ax in enumerate([ax1,ax2]):\n",
    "    x,y,Z,img_lam,h = image_data[i]\n",
    "    X,Y    = np.meshgrid(x,y)\n",
    "    X_AU   = X*dpc_img\n",
    "    Y_AU   = Y*dpc_img\n",
    "    R_AS   = np.sqrt(X**2+Y**2)\n",
    "    \n",
    "    if i == 0:\n",
    "        scale = (X**2+Y**2)\n",
    "        txt   = r'$\\lambda = {:0.4g}$ $\\mu$m'.format(img_lam*1e4)\n",
    "        cm    = 'Reds_r'\n",
    "    else:\n",
    "        scale  = 1\n",
    "        txt   = r'$\\lambda = {:0.4g}$ mm'.format(img_lam*10)\n",
    "        cm    = 'Purples_r'\n",
    "    \n",
    "    \n",
    "    vmin,vmax = 7e-4,9e-2\n",
    "    \n",
    "    mappable=ax.imshow(scale*Z,vmin=vmin,vmax=vmax,\\\n",
    "                norm=mpl.colors.LogNorm(),\\\n",
    "                extent=[X_AU.min(),X_AU.max(),Y_AU.min(),Y_AU.max()],\\\n",
    "                cmap=cm,interpolation='nearest',origin='lower')\n",
    "\n",
    "    ax.set_xlim(-rmax_AU,rmax_AU);\n",
    "    ax.set_ylim(-rmax_AU,rmax_AU);\n",
    "    \n",
    "    ax.set_xlabel('$x$ [AU]',fontsize='small');\n",
    "    ax.set_ylabel('$y$ [AU]',fontsize='small');\n",
    "    \n",
    "    ax.text(0.1,0.85,txt,transform=ax.transAxes,color='w',fontsize='small')\n",
    "        \n",
    "    ax.xaxis.set_major_locator(mpl.ticker.MaxNLocator(nbins=4,prune='both'))\n",
    "    ax.xaxis.set_minor_locator(mpl.ticker.AutoMinorLocator())\n",
    "    ax.yaxis.set_major_locator(mpl.ticker.MaxNLocator(nbins=4))\n",
    "    ax.yaxis.set_minor_locator(mpl.ticker.AutoMinorLocator())\n",
    "\n",
    "\n",
    "    plt.setp(ax.get_yticklabels()[0],visible=False)\n",
    "    plt.setp(ax.get_yticklabels()[-1],visible=False)\n",
    "\n",
    "ax2.yaxis.get_label().set_visible(False)\n",
    "#\n",
    "# ------------\n",
    "# profile plot\n",
    "# ------------\n",
    "#\n",
    "for i,img_arr in enumerate(image_data):\n",
    "    x,y,img,img_lam,h = img_arr\n",
    "    x0      = h['CRPIX1']\n",
    "    y0      = h['CRPIX2']\n",
    "    profile = img[x0:,y0]\n",
    "    r_as    = x[x0:]\n",
    "    r_au    = r_as*dpc_img\n",
    "    \n",
    "    if i == 0:\n",
    "        txt   = r'$\\lambda = {:0.4g}$ $\\mu$m'.format(img_lam*1e4)\n",
    "        yfct  = 0.17\n",
    "        #\n",
    "        # find minimum between 1 and 100\n",
    "        #\n",
    "        mask = (r_au>1) & (r_au<100)\n",
    "        rmin = r_au[mask][profile[mask].argmin()]\n",
    "        imin = abs(r_au-rmin).argmin()\n",
    "        ax3.annotate(xy=(rmin,np.log10(profile[imin])),xytext=(rmin,np.log10(5*profile[imin])),color='k',s='dip',ha='center',arrowprops=dict(lw=0.5,fc='k',arrowstyle = 'simple,head_width=.5,head_length=.25',connectionstyle = 'arc3,rad=0'))\n",
    "    else:\n",
    "        txt   = r'$\\lambda = {:0.4g}$ mm'.format(img_lam*10)\n",
    "        yfct  = 1.5\n",
    "    \n",
    "    l,=ax3.semilogx(r_au,np.log10(profile),label=r'$\\lambda = {:0.4g}$ micron'.format(img_lam*1e4),c=colors[i])\n",
    "    \n",
    "    labelpos=40\n",
    "    ax3.text(labelpos,np.log10(yfct*profile[abs(r_au-labelpos).argmin()]),txt,color=l.get_color(),fontsize='small')   \n",
    "#\n",
    "# formatting the profile plot\n",
    "#\n",
    "ax3.set_xlim(1,r_au[-1])\n",
    "ax3.set_ylim(-4.5,1)\n",
    "ax3.add_artist(mpl.lines.Line2D(r_f/AU*np.ones(2),ax3.get_ylim(),color='k',ls=':'))\n",
    "ax3.set_xlabel('radius [AU]')\n",
    "ax3.set_ylabel('log Intensity [Jy/arcsec$^2$]')\n",
    "ax3.xaxis.set_major_formatter(mpl.ticker.FormatStrFormatter('%g'))\n",
    "ax3.tick_params(axis='y',which='minor',left='off',right='off')\n",
    "plt.savefig('fig3.pdf',facecolor='None')"
   ]
  },
  {
   "cell_type": "markdown",
   "metadata": {},
   "source": [
    "# Figure 4"
   ]
  },
  {
   "cell_type": "code",
   "execution_count": null,
   "metadata": {
    "collapsed": false
   },
   "outputs": [],
   "source": [
    "alpha_mix   = 1./(om*time) # lower limit\n",
    "alpha_sweep = 1./(om*time)**2/eps*(cs/om/r)**-2*0.55/abs(gamma) # lower\n",
    "alpha_frag  = abs(gamma)/(3*eps)*(v_f/v_k)**2# upper limit\n",
    "\n",
    "f  = plt.figure(figsize=(5,4))\n",
    "ax = plt.gca()\n",
    "ax.loglog(r/AU,alpha_mix,  label='lower limit: mixing')\n",
    "ax.loglog(r/AU,alpha_sweep,label='lower limit: sweep-up')\n",
    "ax.loglog(r/AU,alpha_frag, label='upper limit: fragmentation')\n",
    "ax.fill_between(r/AU,alpha_frag,np.maximum(alpha_sweep,alpha_mix),alpha=0.5,color=plt.rcParams['axes.color_cycle'][4])\n",
    "ax.loglog(r/AU,alpha,'k--')\n",
    "\n",
    "ax.set_ylim(1e-6,1e-1)\n",
    "ax.set_xlim(0.3,750)\n",
    "\n",
    "ax.set_xlabel('radius [AU]')\n",
    "ax.set_ylabel(r'$\\alpha_\\mathrm{t}$')\n",
    "ax.xaxis.set_major_formatter(ticker.FormatStrFormatter('%g'))\n",
    "ax.legend(loc='best',fontsize='x-small')\n",
    "plt.tight_layout()\n",
    "f.savefig('fig4.pdf',facecolor='None')"
   ]
  }
 ],
 "metadata": {
  "kernelspec": {
   "display_name": "Python 2",
   "language": "python",
   "name": "python2"
  },
  "language_info": {
   "codemirror_mode": {
    "name": "ipython",
    "version": 2
   },
   "file_extension": ".py",
   "mimetype": "text/x-python",
   "name": "python",
   "nbconvert_exporter": "python",
   "pygments_lexer": "ipython2",
   "version": "2.7.9"
  }
 },
 "nbformat": 4,
 "nbformat_minor": 0
}
